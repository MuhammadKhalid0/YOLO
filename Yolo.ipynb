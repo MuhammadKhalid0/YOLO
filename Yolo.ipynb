{
  "nbformat": 4,
  "nbformat_minor": 0,
  "metadata": {
    "colab": {
      "provenance": []
    },
    "kernelspec": {
      "name": "python3",
      "display_name": "Python 3"
    },
    "language_info": {
      "name": "python"
    }
  },
  "cells": [
    {
      "cell_type": "markdown",
      "source": [
        "#[5 pt ]Test video on the previous models.\n",
        "* Save the result as a video\n",
        "* print number of objects \n",
        "* print speed(Detection Time) Cpu or GPU\n",
        "\n",
        "\n",
        "\n",
        "\n",
        "\n"
      ],
      "metadata": {
        "id": "hDmlnvDwo8Js"
      }
    },
    {
      "cell_type": "markdown",
      "source": [
        "#Yolov3"
      ],
      "metadata": {
        "id": "lUJMMG5jpTYo"
      }
    },
    {
      "cell_type": "code",
      "execution_count": null,
      "metadata": {
        "id": "hq9BYy9co7Kb"
      },
      "outputs": [],
      "source": []
    },
    {
      "cell_type": "markdown",
      "source": [
        "#Yolov5"
      ],
      "metadata": {
        "id": "X_TaM2RGpVdK"
      }
    },
    {
      "cell_type": "code",
      "source": [],
      "metadata": {
        "id": "WwAsjANQpXMG"
      },
      "execution_count": null,
      "outputs": []
    },
    {
      "cell_type": "markdown",
      "source": [
        "#Latest YOLOv."
      ],
      "metadata": {
        "id": "h_IJOLlrpXXZ"
      }
    },
    {
      "cell_type": "code",
      "source": [],
      "metadata": {
        "id": "7_NjjTRapb3f"
      },
      "execution_count": null,
      "outputs": []
    },
    {
      "cell_type": "markdown",
      "source": [
        "#[2 pt] Bonus: Repeat the comparison for the next models.\n",
        "* yolov5n  \n",
        "* yolov5s\n",
        "* yolov5m \n",
        "* yolov5l  \n",
        "* yolov5x\n",
        "\n",
        "\n",
        "\n",
        "\n"
      ],
      "metadata": {
        "id": "iTBuCYO0pcT1"
      }
    },
    {
      "cell_type": "code",
      "source": [],
      "metadata": {
        "id": "u-Q1WE5Upv9B"
      },
      "execution_count": null,
      "outputs": []
    }
  ]
}